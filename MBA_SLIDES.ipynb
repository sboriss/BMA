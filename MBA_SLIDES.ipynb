{
 "cells": [
  {
   "cell_type": "markdown",
   "metadata": {
    "slideshow": {
     "slide_type": "slide"
    }
   },
   "source": [
    "## Market Basket Analysis ##"
   ]
  },
  {
   "cell_type": "markdown",
   "metadata": {
    "slideshow": {
     "slide_type": "slide"
    }
   },
   "source": [
    "\n",
    "**Running Kaggle competition**\n",
    "\n",
    "Who cares?\n",
    "\n",
    "- Instacart, other retailers\n",
    "    - Personalised advertisement/product suggestions\n",
    "         - Kind reminders for forgotten items at the shopping lists\n",
    "         - Increase turnover/revenue\n",
    "         - Lessen time spent in shop\n",
    "    - Dynamic pricing tailored for each customer\n",
    "\n"
   ]
  },
  {
   "cell_type": "markdown",
   "metadata": {
    "slideshow": {
     "slide_type": "slide"
    }
   },
   "source": [
    "**Instacart business model**\n",
    "\n",
    "- Runs only in US\n",
    "- Online order (same-day delivery)\n",
    "   - Delivery within one or two hours\n",
    "       - depends on your subscription plan\n",
    "   - 24-hour delivery\n",
    "        - by personal shopper\n",
    "- Prices may differ from those in shops either way\n",
    "- 5-year old/ valued at $3.4 bln\n",
    "\n"
   ]
  },
  {
   "cell_type": "markdown",
   "metadata": {
    "slideshow": {
     "slide_type": "slide"
    }
   },
   "source": [
    "**AIM: Predict products in the last order**\n",
    "\n",
    "- Purchasing histories of 206209 customers\n",
    "- 3214874 orders in total\n",
    "    - Order history records (prior)\n",
    "        - Multiple orders for each customer (min of 3)\n",
    "    - Last order for each customer\n",
    "        - train: 131209 orders\n",
    "        - test: 75000 orders\n",
    "- About 50000 products\n",
    "\n"
   ]
  },
  {
   "cell_type": "markdown",
   "metadata": {
    "slideshow": {
     "slide_type": "slide"
    }
   },
   "source": [
    "**Data features**\n",
    "\n",
    "- Orders are chronologically arranged\n",
    "- Days_since_prior_order\n",
    "- Products_per_order\n",
    "- Add_to_cart_order\n",
    "- Order_dow (day of the week)\n",
    "- Order_hour_of_day\n",
    "- Aisle/Department\n",
    "- Reordered (60%)\n",
    "\n"
   ]
  },
  {
   "cell_type": "markdown",
   "metadata": {
    "slideshow": {
     "slide_type": "slide"
    }
   },
   "source": [
    "**Kaggle scripts**\n",
    "\n",
    "- EDA (a lot)\n",
    "- ML models (a few)\n",
    "    - XGBoost\n",
    "    - light GBM\n",
    "    - Temporal Annotated Recurring Sequence (TARS) based prediction\n",
    "        - code withdrawn from Github\n",
    "- Benchmark models\n",
    "\n"
   ]
  },
  {
   "cell_type": "markdown",
   "metadata": {
    "slideshow": {
     "slide_type": "subslide"
    }
   },
   "source": [
    "**Benchmark models**\n",
    "\n",
    "- Random baseline\n",
    "    - Sample from categories (aisles/departments) ordered before\n",
    "- Top N-products ranked by reordering propensity\n",
    "    - Distribution of reordering propensity\n",
    "    - F1 score sensitivity wrt N\n",
    "- Top N-products ranked by reordering propensity from *m* last orders\n",
    "- All products ever purchased by a customer\n",
    "    - 0.2164845 Public Leadership Board (LB) Score\n",
    "- All products ever reordered by a customer\n",
    "    - 0.2996690 Public LB Score\n",
    "- All products ever reordered by a customer in the last *m* orders\n",
    "- Repeat the last order\n",
    "    - 0.3276746 Public LB Score\n",
    "- Repeat Last Order (Reordered Products Only)\n",
    "    - 0.3276826 Public LB Score"
   ]
  },
  {
   "cell_type": "markdown",
   "metadata": {
    "slideshow": {
     "slide_type": "subslide"
    }
   },
   "source": [
    "**ML models**\n",
    "\n",
    "- XGBoost [LB 0.3808482]\n",
    "- light GBM [LB 0.3692]\n",
    "\n",
    "- ** There is an improvement over the benchmark models!!!**\n",
    "\n",
    "- But: Dependent Variable :\n",
    "    - probability of a given product ever bought by a customer will be re-ordered\n",
    "    - list of predicted products is always a subset of ordered products\n",
    "\n"
   ]
  },
  {
   "cell_type": "markdown",
   "metadata": {
    "slideshow": {
     "slide_type": "subslide"
    }
   },
   "source": [
    "# Top LB score - 0.4021544 #"
   ]
  },
  {
   "cell_type": "markdown",
   "metadata": {
    "slideshow": {
     "slide_type": "subslide"
    }
   },
   "source": [
    "**MBA-models**\n",
    "\n",
    "- Enlarge list of predicted products by associative rules\n",
    "    - most common pairs of products purchased\n",
    "        - beer/nuts, beer/chips, cheese/wine\n",
    "- Optimal size of predicted basket varies by a customer\n",
    "- Sensitivity of F1-score wrt predicted basket size\n",
    "\n"
   ]
  },
  {
   "cell_type": "markdown",
   "metadata": {
    "slideshow": {
     "slide_type": "slide"
    }
   },
   "source": [
    "**Evaluation metrics: mean F1 score**\n",
    "\n",
    "- p - *precision*\n",
    "    - the number of correct positive results divided by the number of all positive results\n",
    "- r - *recall*\n",
    "    - the number of correct positive results divided by the number of positive results that should have been returned.\n",
    "\n",
    "- $$ F_1{ \\ \\ } score = 2 * \\frac{1}{\\frac{1}{p} + \\frac{1}{r}}$$\n",
    "    - harmonic mean of p and r: values between 0 and 1\n",
    "- $$ F_1{ \\ \\ } score = 2 * \\frac{p * r}{p + r}$$\n"
   ]
  },
  {
   "cell_type": "markdown",
   "metadata": {
    "slideshow": {
     "slide_type": "slide"
    }
   },
   "source": [
    "# Features\n",
    "- **product-specific**\n",
    "- **user-specific**\n",
    "- **user-product-specific**\n",
    "- **train/test-specific**"
   ]
  },
  {
   "cell_type": "markdown",
   "metadata": {
    "slideshow": {
     "slide_type": "slide"
    }
   },
   "source": [
    "## Product-specific features (49688) products\n",
    "- **prod_orders**: how many times product_id was ordered by all customers\n",
    "- **prod_reorders**: how many times product_id was re-ordered by all customers\n",
    "- **prod_reorder_ratio**:\n",
    "    - $$  prod\\_reorder\\_ratio = \\frac{prod\\_reorders}{prod\\_orders}$$\n",
    "- **prod_first_orders**: how many times product_id was ordered for the first time\n",
    "- **prod_second_orders**: how many times product_id was ordered for the second time\n",
    "- **prod\\_reorder\\_probability**:   \n",
    "    - $$  prod\\_reorder\\_probability = \\frac{prod\\_reorders}{prod\\_orders}$$\n",
    "    - measures probability of the first re-order\n",
    "- **prod_reorder_times**: \n",
    "    - $$ prod\\_reorder\\_times =  1 + \\frac{prod\\_reorders}{ prod\\_first\\_orders} = \\frac{prod\\_first\\_orders + prod\\_reorders}{ prod\\_first\\_orders} $$\n",
    "    - inverse of share of first orders in total orders\n"
   ]
  },
  {
   "cell_type": "markdown",
   "metadata": {
    "slideshow": {
     "slide_type": "slide"
    }
   },
   "source": [
    "# User-specific features\n",
    "- **user_orders**: number of orders made by user_id\n",
    "- **user_period**: number of days since the first purchase\n",
    "- **user_mean_days_since_prior**: average number of days since the prior order\n",
    "- **user_mean_order_dow**: average day-of-week when orders were made\n",
    "- **user_mean_order_hour_of_day**: average hour-of-day when orders were made\n",
    "- **user_total_products**: number of all products ever ordered by user_id\n",
    "- **user_distinct_products**: number of all *distinct* products ever ordered by user_id\n",
    "- **user_average_basket**: size of average order\n",
    "    - $$user\\_average\\_basket = \\frac{user\\_total\\_products}{user\\_orders}$$\n",
    "- **user_reorder_ratio**: \n",
    "    - $$user\\_reorder\\_ratio = \\frac{sum(reordered == 1)}{sum(order\\_number > 1)}$$\n",
    "\n"
   ]
  },
  {
   "cell_type": "markdown",
   "metadata": {
    "slideshow": {
     "slide_type": "slide"
    }
   },
   "source": [
    "# User-Product-specific (UP) features\n",
    " - **up_orders**: how many times a user_id ordered given product_id\n",
    " - **up_first_order**: in which **order_number** a product_id was first ordered\n",
    " - **up_last_order**: in which **order_number** a product_id was last ordered\n",
    " - **up_average_cart_position**: average position in ordering cart\n",
    " - **up_order_rate**: share of orders with ordered product_id in total number of orders\n",
    "     - $$ up\\_order\\_rate = \\frac{up\\_orders}{user\\_orders}$$\n",
    " - **up_orders_since_last_order**: how many orders ago product_id was ordered last time\n",
    "     - $$up\\_orders\\_since\\_last\\_order = user\\_orders - up\\_last\\_order$$\n",
    " - **up_order_rate_since_first_order**: how many times a user_id ordered given product_id per number of orders since it was ordered for the first time\n",
    "     - $$ up\\_order\\_rate\\_since\\_first\\_order =  \\frac{up\\_orders}{user\\_orders - up\\_first\\_order + 1}$$"
   ]
  },
  {
   "cell_type": "markdown",
   "metadata": {
    "slideshow": {
     "slide_type": "slide"
    }
   },
   "source": [
    "# Train/test-specific features\n",
    "- **days_since_the_last_order**\n",
    "- **postprior_order_dow**\n",
    "- **postprior_order_hour_of_day**\n",
    "- **reordered**: dependent variable\n",
    "    - indicates whether product_id was (re-)ordered in train set\n",
    "    - for those that were ordered but not re-ordered in train set this variable is set to zero!?"
   ]
  },
  {
   "cell_type": "markdown",
   "metadata": {
    "slideshow": {
     "slide_type": "slide"
    }
   },
   "source": [
    "# Suggestions:\n",
    "- user-specific:\n",
    "    - **buys_organic**: reorder ratio is different for organic/non-organic products\n",
    "    - **s\n",
    "- user-products_specific:\n",
    "    - **up_days_since_last_order**: how many days lapsed since product_id was ordered"
   ]
  },
  {
   "cell_type": "markdown",
   "metadata": {
    "slideshow": {
     "slide_type": "slide"
    }
   },
   "source": [
    "# Play with thresholds: apply user-specific thresholds\n",
    "- identify **reordering** customers in test set: according to https://www.kaggle.com/philippsp/exploratory-analysis-instacart \n",
    "there are 3,487 customers, that always reorder products. Set for them the threshold to zero."
   ]
  }
 ],
 "metadata": {
  "celltoolbar": "Slideshow",
  "kernelspec": {
   "display_name": "Python 3",
   "language": "python",
   "name": "python3"
  },
  "language_info": {
   "codemirror_mode": {
    "name": "ipython",
    "version": 3
   },
   "file_extension": ".py",
   "mimetype": "text/x-python",
   "name": "python",
   "nbconvert_exporter": "python",
   "pygments_lexer": "ipython3",
   "version": "3.6.0"
  }
 },
 "nbformat": 4,
 "nbformat_minor": 2
}
